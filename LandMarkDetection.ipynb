{
  "nbformat": 4,
  "nbformat_minor": 0,
  "metadata": {
    "colab": {
      "name": "LandMarkDetection.ipynb",
      "provenance": [],
      "collapsed_sections": [],
      "mount_file_id": "1M-kIWxvp8HTALoPRbmIu-IxXU0U9lRtR",
      "authorship_tag": "ABX9TyNsfW8j+MLU9yF/3dNzw6/R",
      "include_colab_link": true
    },
    "kernelspec": {
      "name": "python3",
      "display_name": "Python 3"
    }
  },
  "cells": [
    {
      "cell_type": "markdown",
      "metadata": {
        "id": "view-in-github",
        "colab_type": "text"
      },
      "source": [
        "<a href=\"https://colab.research.google.com/github/BinayakDotel/opencv/blob/master/LandMarkDetection.ipynb\" target=\"_parent\"><img src=\"https://colab.research.google.com/assets/colab-badge.svg\" alt=\"Open In Colab\"/></a>"
      ]
    },
    {
      "cell_type": "code",
      "metadata": {
        "id": "NYvEVdxZjZpV"
      },
      "source": [
        "#!curl -o myPic.png https://d1qsx5nyffkra9.cloudfront.net/sites/default/files/article-image/eminence-organics-acne-face-mapping.jpg\n",
        "import cv2 as cv\n",
        "from matplotlib import pyplot as plt\n",
        "import numpy as np\n",
        "import dlib\n",
        "from google.colab.patches import cv2_imshow\n"
      ],
      "execution_count": null,
      "outputs": []
    },
    {
      "cell_type": "code",
      "metadata": {
        "id": "HUemp2wholSF",
        "colab": {
          "base_uri": "https://localhost:8080/",
          "height": 229
        },
        "outputId": "9c74b39b-7b67-401b-9e57-dd55be99b646"
      },
      "source": [
        "detector = dlib.get_frontal_face_detector()\n",
        "predictor = dlib.shape_predictor(\"drive/My Drive/Colab Notebooks/shape_predictor_68_face_landmarks.dat\")\n",
        "\n",
        "def createBox(img, points, scale = 5, masked= False, cropped = True):\n",
        "  if masked:\n",
        "    mask = np.zeros_like(img)\n",
        "    mask = cv.fillPoly(mask, [points], (255,255,255))\n",
        "    img = cv.bitwise_and(img, mask)\n",
        "  \n",
        "  if cropped:\n",
        "    cropBox = cv.boundingRect(points)\n",
        "    x,y,w,h = cropBox\n",
        "    imgCrop = img[y:y+h,x:x+w] \n",
        "    imgCrop = cv.resize(imgCrop, (0,0), None, scale, scale)\n",
        "    return imgCrop\n",
        "  \n",
        "  else:\n",
        "    return mask\n",
        "\n",
        "img = cv.imread(\"drive/My Drive/Memories/myPic.jpg\", 1)\n",
        "img = cv.resize(img, (0,0), None, 2, 2)\n",
        "imgOriginal= img.copy()\n",
        "imgGray = cv.cvtColor(img, cv.COLOR_BGR2GRAY)\n",
        "faces = detector(imgGray)\n",
        "\n",
        "for face in faces:\n",
        "  x1,y1 = face.left(),face.top()\n",
        "  x2,y2 = face.right(),face.bottom()\n",
        "  cv.rectangle(imgOriginal, (x1,y1),(x2,y2), (0,255,0))\n",
        "  landmarks = predictor(imgGray, face) \n",
        "  myPoints = []\n",
        "\n",
        "  for n in range(68):\n",
        "    x = landmarks.part(n).x\n",
        "    y = landmarks.part(n).y\n",
        "    myPoints.append([x,y])\n",
        "    #cv.circle(imgOriginal, (x,y), 3, (255,255,255), cv.FILLED)\n",
        "    cv.putText(imgOriginal, str(n), (x,y-4), cv.FONT_HERSHEY_COMPLEX_SMALL, 0.6, (0,0,0), 1)\n",
        "\n",
        "  print(myPoints)\n",
        "  myPoints= np.array(myPoints)\n",
        "\n",
        "  lips = createBox(img, myPoints[42:48], masked = True, cropped = False)\n",
        "  colorLips = np.zeros_like(lips)\n",
        "  colorLips[:] = 0,0,255\n",
        "  colorLips = cv.bitwise_and(lips, colorLips)\n",
        "  colorLips = cv.GaussianBlur(colorLips, (7,7), 50)\n",
        "  colorLips = cv.addWeighted(img, 1, colorLips, 0.4, 0)\n",
        "  cv2_imshow(colorLips)\n",
        "\n",
        "cv2_imshow(result)\n",
        "cv2_imshow(img)\n",
        "cv2_imshow(imgOriginal)\n"
      ],
      "execution_count": 1,
      "outputs": [
        {
          "output_type": "error",
          "ename": "NameError",
          "evalue": "ignored",
          "traceback": [
            "\u001b[0;31m---------------------------------------------------------------------------\u001b[0m",
            "\u001b[0;31mNameError\u001b[0m                                 Traceback (most recent call last)",
            "\u001b[0;32m<ipython-input-1-ed6900aab09b>\u001b[0m in \u001b[0;36m<module>\u001b[0;34m()\u001b[0m\n\u001b[0;32m----> 1\u001b[0;31m \u001b[0mdetector\u001b[0m \u001b[0;34m=\u001b[0m \u001b[0mdlib\u001b[0m\u001b[0;34m.\u001b[0m\u001b[0mget_frontal_face_detector\u001b[0m\u001b[0;34m(\u001b[0m\u001b[0;34m)\u001b[0m\u001b[0;34m\u001b[0m\u001b[0;34m\u001b[0m\u001b[0m\n\u001b[0m\u001b[1;32m      2\u001b[0m \u001b[0mpredictor\u001b[0m \u001b[0;34m=\u001b[0m \u001b[0mdlib\u001b[0m\u001b[0;34m.\u001b[0m\u001b[0mshape_predictor\u001b[0m\u001b[0;34m(\u001b[0m\u001b[0;34m\"drive/My Drive/Colab Notebooks/shape_predictor_68_face_landmarks.dat\"\u001b[0m\u001b[0;34m)\u001b[0m\u001b[0;34m\u001b[0m\u001b[0;34m\u001b[0m\u001b[0m\n\u001b[1;32m      3\u001b[0m \u001b[0;34m\u001b[0m\u001b[0m\n\u001b[1;32m      4\u001b[0m \u001b[0;32mdef\u001b[0m \u001b[0mcreateBox\u001b[0m\u001b[0;34m(\u001b[0m\u001b[0mimg\u001b[0m\u001b[0;34m,\u001b[0m \u001b[0mpoints\u001b[0m\u001b[0;34m,\u001b[0m \u001b[0mscale\u001b[0m \u001b[0;34m=\u001b[0m \u001b[0;36m5\u001b[0m\u001b[0;34m,\u001b[0m \u001b[0mmasked\u001b[0m\u001b[0;34m=\u001b[0m \u001b[0;32mFalse\u001b[0m\u001b[0;34m,\u001b[0m \u001b[0mcropped\u001b[0m \u001b[0;34m=\u001b[0m \u001b[0;32mTrue\u001b[0m\u001b[0;34m)\u001b[0m\u001b[0;34m:\u001b[0m\u001b[0;34m\u001b[0m\u001b[0;34m\u001b[0m\u001b[0m\n\u001b[1;32m      5\u001b[0m   \u001b[0;32mif\u001b[0m \u001b[0mmasked\u001b[0m\u001b[0;34m:\u001b[0m\u001b[0;34m\u001b[0m\u001b[0;34m\u001b[0m\u001b[0m\n",
            "\u001b[0;31mNameError\u001b[0m: name 'dlib' is not defined"
          ]
        }
      ]
    }
  ]
}